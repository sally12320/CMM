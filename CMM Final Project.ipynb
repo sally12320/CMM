{
 "cells": [
  {
   "cell_type": "code",
   "execution_count": 32,
   "id": "33e03872",
   "metadata": {},
   "outputs": [],
   "source": [
    "import numpy as np\n",
    "import pandas as pd\n",
    "import math\n",
    "import scipy.io\n",
    "import random\n",
    "import warnings\n",
    "warnings.filterwarnings('ignore')\n",
    "warnings.simplefilter('ignore')\n",
    "#loading regression methods\n",
    "from sklearn.linear_model import Ridge\n",
    "from sklearn.linear_model import LogisticRegression as lor\n",
    "from sklearn.linear_model import Lasso\n",
    "from sklearn.linear_model import ElasticNet\n",
    "from sklearn.linear_model import LinearRegression as lr\n",
    "from sklearn.neighbors import KNeighborsClassifier as knn\n",
    "from sklearn.discriminant_analysis import LinearDiscriminantAnalysis as lda\n",
    "from sklearn.discriminant_analysis import QuadraticDiscriminantAnalysis as qda\n",
    "from sklearn.naive_bayes import GaussianNB as gnb\n",
    "from sklearn.tree import DecisionTreeClassifier as dt\n",
    "from sklearn.ensemble import RandomForestClassifier as rf\n",
    "from sklearn.svm import SVC as svc\n",
    "from sklearn.svm import NuSVC as nusvc\n",
    "from sklearn.svm import LinearSVC as lsvc\n",
    "from sklearn.svm import LinearSVR as lsvr\n",
    "import xgboost as xgb\n",
    "from sklearn.ensemble import AdaBoostClassifier\n",
    "import matplotlib.pyplot as plt\n",
    "from sklearn.metrics import roc_curve, auc\n",
    "from sklearn.model_selection import KFold\n",
    "from sklearn.ensemble import RandomForestClassifier\n",
    "from sklearn.metrics import accuracy_score\n",
    "from sklearn.metrics import roc_auc_score\n",
    "from sklearn.metrics import confusion_matrix\n",
    "from sklearn.model_selection import StratifiedKFold\n",
    "from sklearn.metrics import confusion_matrix\n",
    "from sklearn.model_selection import cross_val_score\n",
    "from sklearn.ensemble import RandomForestClassifier, AdaBoostClassifier, VotingClassifier\n",
    "import seaborn as sns"
   ]
  },
  {
   "cell_type": "code",
   "execution_count": 2,
   "id": "d0e1cf87",
   "metadata": {},
   "outputs": [],
   "source": [
    "geno = pd.read_csv('geno50.csv')\n",
    "geno =  geno.drop('ChemoResponse',axis = 1)\n",
    "meta = pd.read_csv(\"meta_processed.csv\")\n",
    "meta[\"DRFS_Year\"] = meta[\"DRFS_Year\"].fillna(\"unknown\")"
   ]
  },
  {
   "cell_type": "code",
   "execution_count": 30,
   "id": "a83663e1",
   "metadata": {},
   "outputs": [
    {
     "data": {
      "text/html": [
       "<div>\n",
       "<style scoped>\n",
       "    .dataframe tbody tr th:only-of-type {\n",
       "        vertical-align: middle;\n",
       "    }\n",
       "\n",
       "    .dataframe tbody tr th {\n",
       "        vertical-align: top;\n",
       "    }\n",
       "\n",
       "    .dataframe thead th {\n",
       "        text-align: right;\n",
       "    }\n",
       "</style>\n",
       "<table border=\"1\" class=\"dataframe\">\n",
       "  <thead>\n",
       "    <tr style=\"text-align: right;\">\n",
       "      <th></th>\n",
       "      <th>Age</th>\n",
       "      <th>ER_Status</th>\n",
       "      <th>PR_Status</th>\n",
       "      <th>HER2_Status</th>\n",
       "      <th>Grade</th>\n",
       "      <th>T_Stage</th>\n",
       "      <th>N_Stage</th>\n",
       "      <th>PAM50_Class</th>\n",
       "      <th>DRFS_Event</th>\n",
       "      <th>DRFS_Year</th>\n",
       "      <th>ChemoEncoding</th>\n",
       "    </tr>\n",
       "  </thead>\n",
       "  <tbody>\n",
       "    <tr>\n",
       "      <th>0</th>\n",
       "      <td>44.0</td>\n",
       "      <td>positive</td>\n",
       "      <td>positive</td>\n",
       "      <td>negative</td>\n",
       "      <td>2.0</td>\n",
       "      <td>T3</td>\n",
       "      <td>N0</td>\n",
       "      <td>unknown</td>\n",
       "      <td>unknown</td>\n",
       "      <td>unknown</td>\n",
       "      <td>0</td>\n",
       "    </tr>\n",
       "    <tr>\n",
       "      <th>1</th>\n",
       "      <td>43.0</td>\n",
       "      <td>positive</td>\n",
       "      <td>positive</td>\n",
       "      <td>negative</td>\n",
       "      <td>unknown</td>\n",
       "      <td>T4</td>\n",
       "      <td>N1</td>\n",
       "      <td>unknown</td>\n",
       "      <td>unknown</td>\n",
       "      <td>unknown</td>\n",
       "      <td>0</td>\n",
       "    </tr>\n",
       "    <tr>\n",
       "      <th>2</th>\n",
       "      <td>56.0</td>\n",
       "      <td>negative</td>\n",
       "      <td>negative</td>\n",
       "      <td>negative</td>\n",
       "      <td>3</td>\n",
       "      <td>T4</td>\n",
       "      <td>N3</td>\n",
       "      <td>unknown</td>\n",
       "      <td>unknown</td>\n",
       "      <td>cat1</td>\n",
       "      <td>0</td>\n",
       "    </tr>\n",
       "    <tr>\n",
       "      <th>3</th>\n",
       "      <td>41.0</td>\n",
       "      <td>positive</td>\n",
       "      <td>negative</td>\n",
       "      <td>negative</td>\n",
       "      <td>2</td>\n",
       "      <td>T2</td>\n",
       "      <td>N1</td>\n",
       "      <td>unknown</td>\n",
       "      <td>unknown</td>\n",
       "      <td>cat3</td>\n",
       "      <td>0</td>\n",
       "    </tr>\n",
       "    <tr>\n",
       "      <th>4</th>\n",
       "      <td>39.0</td>\n",
       "      <td>positive</td>\n",
       "      <td>positive</td>\n",
       "      <td>negative</td>\n",
       "      <td>3.0</td>\n",
       "      <td>T2</td>\n",
       "      <td>N1</td>\n",
       "      <td>unknown</td>\n",
       "      <td>unknown</td>\n",
       "      <td>unknown</td>\n",
       "      <td>0</td>\n",
       "    </tr>\n",
       "    <tr>\n",
       "      <th>...</th>\n",
       "      <td>...</td>\n",
       "      <td>...</td>\n",
       "      <td>...</td>\n",
       "      <td>...</td>\n",
       "      <td>...</td>\n",
       "      <td>...</td>\n",
       "      <td>...</td>\n",
       "      <td>...</td>\n",
       "      <td>...</td>\n",
       "      <td>...</td>\n",
       "      <td>...</td>\n",
       "    </tr>\n",
       "    <tr>\n",
       "      <th>1166</th>\n",
       "      <td>46.0</td>\n",
       "      <td>negative</td>\n",
       "      <td>negative</td>\n",
       "      <td>positive</td>\n",
       "      <td>3.0</td>\n",
       "      <td>T3</td>\n",
       "      <td>unknown</td>\n",
       "      <td>unknown</td>\n",
       "      <td>unknown</td>\n",
       "      <td>unknown</td>\n",
       "      <td>1</td>\n",
       "    </tr>\n",
       "    <tr>\n",
       "      <th>1167</th>\n",
       "      <td>62.0</td>\n",
       "      <td>positive</td>\n",
       "      <td>positive</td>\n",
       "      <td>negative</td>\n",
       "      <td>3</td>\n",
       "      <td>T4</td>\n",
       "      <td>N1</td>\n",
       "      <td>unknown</td>\n",
       "      <td>unknown</td>\n",
       "      <td>cat1</td>\n",
       "      <td>0</td>\n",
       "    </tr>\n",
       "    <tr>\n",
       "      <th>1168</th>\n",
       "      <td>44.0</td>\n",
       "      <td>positive</td>\n",
       "      <td>negative</td>\n",
       "      <td>negative</td>\n",
       "      <td>2.0</td>\n",
       "      <td>T2</td>\n",
       "      <td>unknown</td>\n",
       "      <td>unknown</td>\n",
       "      <td>unknown</td>\n",
       "      <td>unknown</td>\n",
       "      <td>0</td>\n",
       "    </tr>\n",
       "    <tr>\n",
       "      <th>1169</th>\n",
       "      <td>38.0</td>\n",
       "      <td>positive</td>\n",
       "      <td>positive</td>\n",
       "      <td>negative</td>\n",
       "      <td>3</td>\n",
       "      <td>T4</td>\n",
       "      <td>N1</td>\n",
       "      <td>unknown</td>\n",
       "      <td>unknown</td>\n",
       "      <td>cat3</td>\n",
       "      <td>0</td>\n",
       "    </tr>\n",
       "    <tr>\n",
       "      <th>1170</th>\n",
       "      <td>44.0</td>\n",
       "      <td>negative</td>\n",
       "      <td>negative</td>\n",
       "      <td>negative</td>\n",
       "      <td>3.0</td>\n",
       "      <td>T2</td>\n",
       "      <td>N0</td>\n",
       "      <td>unknown</td>\n",
       "      <td>unknown</td>\n",
       "      <td>unknown</td>\n",
       "      <td>1</td>\n",
       "    </tr>\n",
       "  </tbody>\n",
       "</table>\n",
       "<p>1171 rows × 11 columns</p>\n",
       "</div>"
      ],
      "text/plain": [
       "       Age ER_Status PR_Status HER2_Status    Grade T_Stage  N_Stage  \\\n",
       "0     44.0  positive  positive    negative      2.0      T3       N0   \n",
       "1     43.0  positive  positive    negative  unknown      T4       N1   \n",
       "2     56.0  negative  negative    negative        3      T4       N3   \n",
       "3     41.0  positive  negative    negative        2      T2       N1   \n",
       "4     39.0  positive  positive    negative      3.0      T2       N1   \n",
       "...    ...       ...       ...         ...      ...     ...      ...   \n",
       "1166  46.0  negative  negative    positive      3.0      T3  unknown   \n",
       "1167  62.0  positive  positive    negative        3      T4       N1   \n",
       "1168  44.0  positive  negative    negative      2.0      T2  unknown   \n",
       "1169  38.0  positive  positive    negative        3      T4       N1   \n",
       "1170  44.0  negative  negative    negative      3.0      T2       N0   \n",
       "\n",
       "     PAM50_Class DRFS_Event DRFS_Year  ChemoEncoding  \n",
       "0        unknown    unknown   unknown              0  \n",
       "1        unknown    unknown   unknown              0  \n",
       "2        unknown    unknown      cat1              0  \n",
       "3        unknown    unknown      cat3              0  \n",
       "4        unknown    unknown   unknown              0  \n",
       "...          ...        ...       ...            ...  \n",
       "1166     unknown    unknown   unknown              1  \n",
       "1167     unknown    unknown      cat1              0  \n",
       "1168     unknown    unknown   unknown              0  \n",
       "1169     unknown    unknown      cat3              0  \n",
       "1170     unknown    unknown   unknown              1  \n",
       "\n",
       "[1171 rows x 11 columns]"
      ]
     },
     "execution_count": 30,
     "metadata": {},
     "output_type": "execute_result"
    }
   ],
   "source": [
    "meta"
   ]
  },
  {
   "cell_type": "code",
   "execution_count": 3,
   "id": "3d8fdeef",
   "metadata": {},
   "outputs": [],
   "source": [
    "def train_test_dev_split(X_concat,meta):\n",
    "    if(type(X_concat) != type(pd.DataFrame())):\n",
    "        X_concat = pd.DataFrame(X_concat)\n",
    "    pos_index = meta.index[meta['ChemoEncoding'] == 1].values\n",
    "    neg_index = meta.index[meta['ChemoEncoding'] == 0].values\n",
    "    \n",
    "    n_pos, n_neg = pos_index.shape[0], neg_index.shape[0]\n",
    "\n",
    "    rng = np.random.default_rng(37)\n",
    "    rng.shuffle(pos_index)\n",
    "    rng.shuffle(neg_index)\n",
    "\n",
    "\n",
    "    train_idx_pos, train_idx_neg = int(n_pos*0.8), int(n_neg* 0.8)\n",
    "    test_idx_pos, test_idx_neg = train_idx_pos + int(n_pos*0.1), train_idx_neg + int(n_neg*0.1)\n",
    "    dev_idx_pos, dev_idx_neg = test_idx_pos, test_idx_neg\n",
    "\n",
    "\n",
    "    train_idx = np.r_[pos_index[:train_idx_pos], neg_index[:train_idx_neg] ]\n",
    "    test_idx = np.r_[pos_index[train_idx_pos:test_idx_pos], neg_index[train_idx_neg:test_idx_neg]]\n",
    "    dev_idx = np.r_[pos_index[test_idx_pos:], neg_index[test_idx_neg:]]\n",
    "    print(f'train_idx:{train_idx.shape[0]}')\n",
    "    print(f'test_idx:{test_idx.shape[0]}')\n",
    "    print(f'dec_idx:{dev_idx.shape[0]}')\n",
    "    \n",
    "    X_train, y_train = X_concat.iloc[train_idx,:], meta.iloc[train_idx,:]['ChemoEncoding']\n",
    "    X_test, y_test = X_concat.iloc[test_idx,:], meta.iloc[test_idx,:]['ChemoEncoding']\n",
    "    X_dev, y_dev = X_concat.iloc[dev_idx,:], meta.iloc[dev_idx,:]['ChemoEncoding']\n",
    "    \n",
    "    return (X_train,y_train), (X_test,y_test), (X_dev,y_dev)"
   ]
  },
  {
   "cell_type": "code",
   "execution_count": 4,
   "id": "bc14ffd0",
   "metadata": {},
   "outputs": [],
   "source": [
    "def get_geno_concat(geno, meta):\n",
    "    X = meta.drop('ChemoEncoding', axis=1)\n",
    "    X_new = pd.concat([X, geno],axis= 1)\n",
    "    contious_cols = X_new[list(geno.columns) + ['Age']]\n",
    "    X_categorical = X_new.drop(list(geno.columns) + ['Age'], axis=1)\n",
    "    # apply one-hot encoding to the categorical features\n",
    "    X_cate_OH = pd.get_dummies(X_categorical)\n",
    "    X_new_OH = pd.concat([contious_cols,  X_cate_OH], axis=1)\n",
    "    \n",
    "    return X_new_OH"
   ]
  },
  {
   "cell_type": "markdown",
   "id": "dc93823d",
   "metadata": {},
   "source": [
    "### Train Test split"
   ]
  },
  {
   "cell_type": "code",
   "execution_count": 5,
   "id": "2da12b5d",
   "metadata": {},
   "outputs": [
    {
     "name": "stdout",
     "output_type": "stream",
     "text": [
      "train_idx:936\n",
      "test_idx:116\n",
      "dec_idx:119\n"
     ]
    }
   ],
   "source": [
    "# X and Y train are for traning \n",
    "# X and Y test are for picking algothrims and tuning paramters \n",
    "# X and Y dev are only used when we pick our final model and check for performances\n",
    "X_concat = get_geno_concat(geno, meta)\n",
    "train_set, test_set, dev_set = train_test_dev_split(X_concat, meta)\n",
    "X_train, y_train = train_set\n",
    "X_test, y_test = test_set\n",
    "X_dev, y_dev = dev_set"
   ]
  },
  {
   "cell_type": "markdown",
   "id": "cca56099",
   "metadata": {},
   "source": [
    "### Apply models "
   ]
  },
  {
   "cell_type": "code",
   "execution_count": 37,
   "id": "a1fff026",
   "metadata": {},
   "outputs": [
    {
     "name": "stdout",
     "output_type": "stream",
     "text": [
      "a model\n",
      "0.8448275862068966 LinearDiscriminantAnalysis()\n",
      "0.2413793103448276 QuadraticDiscriminantAnalysis()\n",
      "0.603448275862069 GaussianNB()\n",
      "0.8275862068965517 RandomForestClassifier()\n",
      "0.8017241379310345 SVC()\n",
      "0.8189655172413793 LinearSVC()\n",
      "0.7931034482758621 KNeighborsClassifier()\n",
      "0.8362068965517241 LogisticRegression()\n",
      "0.8793103448275862 XGBClassifier(base_score=None, booster=None, callbacks=None,\n",
      "              colsample_bylevel=None, colsample_bynode=None,\n",
      "              colsample_bytree=None, early_stopping_rounds=None,\n",
      "              enable_categorical=False, eval_metric=None, feature_types=None,\n",
      "              gamma=None, gpu_id=None, grow_policy=None, importance_type=None,\n",
      "              interaction_constraints=None, learning_rate=None, max_bin=None,\n",
      "              max_cat_threshold=None, max_cat_to_onehot=None,\n",
      "              max_delta_step=None, max_depth=5, max_leaves=None,\n",
      "              min_child_weight=None, missing=nan, monotone_constraints=None,\n",
      "              n_estimators=100, n_jobs=None, num_parallel_tree=None,\n",
      "              predictor=None, random_state=17, ...)\n",
      "0.853448275862069 AdaBoostClassifier(n_estimators=100, random_state=17)\n"
     ]
    }
   ],
   "source": [
    "model=[lda(),qda(),gnb(),rf(),svc(),lsvc(),knn(),lor(),xgb.XGBClassifier(max_depth=5, n_estimators=100, random_state=17),AdaBoostClassifier(n_estimators=100, random_state=17)]\n",
    "print('a','model')\n",
    "for i in model:\n",
    "    clf=i.fit(X_train,y_train)\n",
    "    a=accuracy_score(y_test, clf.predict(X_test))\n",
    "    print(a,i)"
   ]
  },
  {
   "cell_type": "markdown",
   "id": "e2f606ca",
   "metadata": {},
   "source": [
    "#### Rough look:\n",
    "We pick random forest, ada boosting, XG boosting to look for further results. "
   ]
  },
  {
   "cell_type": "markdown",
   "id": "2bdda32d",
   "metadata": {},
   "source": [
    "### Random Forest"
   ]
  },
  {
   "cell_type": "code",
   "execution_count": 7,
   "id": "5df6813f",
   "metadata": {},
   "outputs": [
    {
     "name": "stdout",
     "output_type": "stream",
     "text": [
      "Mean accuracy score:  0.8017241379310345 at depth:  1\n",
      "Mean auc score:  0.5 at depth:  1\n",
      "Mean accuracy score:  0.814655172413793 at depth:  3\n",
      "Mean auc score:  0.5375175315568022 at depth:  3\n",
      "Mean accuracy score:  0.8318965517241379 at depth:  5\n",
      "Mean auc score:  0.602267414679757 at depth:  5\n",
      "Mean accuracy score:  0.8362068965517242 at depth:  10\n",
      "Mean auc score:  0.6262272089761571 at depth:  10\n",
      "Mean accuracy score:  0.838793103448276 at depth:  20\n",
      "Mean auc score:  0.6409303412809725 at depth:  20\n",
      "Mean accuracy score:  0.8387931034482758 at depth:  30\n",
      "Mean auc score:  0.6425666199158486 at depth:  30\n",
      "Best auc occur at idex:  5 depth is:  30 AUC is: 0.6425666199158486\n"
     ]
    }
   ],
   "source": [
    "# Random Forest + k-fold validation to find best AUC    \n",
    "depth = [1,3,5,10,20,30]\n",
    "n_splits = 10\n",
    "ACC = []\n",
    "AUC = []\n",
    "for i in range(len(depth)):\n",
    "    kf = StratifiedKFold(n_splits=10, shuffle=True, random_state=42)\n",
    "    rfc = RandomForestClassifier(n_estimators=100, random_state=20, max_depth = depth[i])\n",
    "    Acc = []\n",
    "    Auc = []\n",
    "    for train_index, test_index in kf.split(X_train,y_train):\n",
    "        X_fold_train, X_fold_test = X_train.iloc[train_index], X_train.iloc[test_index]\n",
    "        y_fold_train, y_fold_test = y_train.iloc[train_index], y_train.iloc[test_index]\n",
    "        \n",
    "\n",
    "        rfc.fit(X_fold_train, y_fold_train)\n",
    "        y_pred = rfc.predict(X_test)\n",
    "        auc = roc_auc_score(y_test, y_pred)\n",
    "        acc = accuracy_score(y_test, y_pred)\n",
    "        # append\n",
    "        Acc.append(acc)\n",
    "        Auc.append(auc)\n",
    "    ACC.append(sum(Acc) / n_splits)\n",
    "    AUC.append(sum(Auc) / n_splits)\n",
    "    print(\"Mean accuracy score: \", ACC[i],\"at depth: \",depth[i])\n",
    "    print(\"Mean auc score: \", AUC[i],\"at depth: \",depth[i])\n",
    "print(\"Best auc occur at idex: \", np.argmax(AUC), \"depth is: \",depth[np.argmax(AUC)], \"AUC is:\", AUC[np.argmax(AUC)])"
   ]
  },
  {
   "cell_type": "code",
   "execution_count": 8,
   "id": "3ce91d1a",
   "metadata": {},
   "outputs": [],
   "source": [
    "# Random Forest \n",
    "from sklearn.ensemble import RandomForestClassifier\n",
    "from sklearn.metrics import accuracy_score\n",
    "from sklearn.metrics import roc_auc_score\n",
    "from sklearn.metrics import confusion_matrix\n",
    "depth = [1,3,5,10,20,30]\n",
    "def testRandomForest(X_train, y_train, X_test, y_test):\n",
    "    SEN = []\n",
    "    SPC = []\n",
    "    ACC = []\n",
    "    AUC = []\n",
    "    for i in range(len(depth)):\n",
    "        model = RandomForestClassifier(n_estimators=100, random_state=17,max_depth=depth[i])\n",
    "        model.fit(X_train, y_train)\n",
    "        y_pred = model.predict(X_dev)\n",
    "        tn, fp, fn, tp = confusion_matrix(y_dev, y_pred).ravel()\n",
    "        sensitivity = tp / (tp + fn)\n",
    "        specificity = tn / (tn + fp)\n",
    "        acc = accuracy_score(y_test, y_pred)\n",
    "        auc = roc_auc_score(y_test, y_pred)\n",
    "        # append\n",
    "        ACC.append(acc)\n",
    "        AUC.append(auc)\n",
    "        SEN.append(sensitivity)\n",
    "        SPC.append(specificity)\n",
    "    return ACC,AUC,SEN,SPC"
   ]
  },
  {
   "cell_type": "code",
   "execution_count": 9,
   "id": "28d878b5",
   "metadata": {},
   "outputs": [
    {
     "name": "stdout",
     "output_type": "stream",
     "text": [
      "[1, 3, 5, 10, 20, 30]\n",
      "[0.0, 0.04, 0.2, 0.24, 0.24, 0.24]\n",
      "[1.0, 0.9893617021276596, 1.0, 0.9787234042553191, 0.9893617021276596, 0.9787234042553191]\n"
     ]
    }
   ],
   "source": [
    "acc, auc, sen,spc = testRandomForest(X_train, y_train, X_test, y_test)\n",
    "print(depth)\n",
    "print(sen)\n",
    "print(spc)"
   ]
  },
  {
   "cell_type": "code",
   "execution_count": 10,
   "id": "7b81f6a5",
   "metadata": {},
   "outputs": [
    {
     "data": {
      "image/png": "[encoded data removed]",
      "text/plain": [
       "<Figure size 432x288 with 1 Axes>"
      ]
     },
     "metadata": {
      "needs_background": "light"
     },
     "output_type": "display_data"
    }
   ],
   "source": [
    "# sensitivity vs. specificity\n",
    "plt.plot(sen,spc)\n",
    "plt.xlabel('sensitivity')\n",
    "plt.ylabel('specificity')\n",
    "plt.show()"
   ]
  },
  {
   "cell_type": "code",
   "execution_count": 11,
   "id": "0afd7389",
   "metadata": {},
   "outputs": [
    {
     "name": "stdout",
     "output_type": "stream",
     "text": [
      "0.8319327731092437\n"
     ]
    },
    {
     "data": {
      "image/png": "[encoded data removed]",
      "text/plain": [
       "<Figure size 432x288 with 1 Axes>"
      ]
     },
     "metadata": {
      "needs_background": "light"
     },
     "output_type": "display_data"
    }
   ],
   "source": [
    "# check test accuracy \n",
    "print(max(acc))\n",
    "plt.plot(depth,acc)\n",
    "plt.xlabel('Depth')\n",
    "plt.ylabel('Acc score')\n",
    "plt.title('Random Forest Depth vs. Accuracy score')\n",
    "plt.show()"
   ]
  },
  {
   "cell_type": "code",
   "execution_count": 12,
   "id": "95a9e843",
   "metadata": {},
   "outputs": [
    {
     "name": "stdout",
     "output_type": "stream",
     "text": [
      "0.6146808510638299\n"
     ]
    },
    {
     "data": {
      "image/png": "[encoded data removed]",
      "text/plain": [
       "<Figure size 432x288 with 1 Axes>"
      ]
     },
     "metadata": {
      "needs_background": "light"
     },
     "output_type": "display_data"
    }
   ],
   "source": [
    "# check auc score\n",
    "print(max(auc))\n",
    "plt.plot(depth,auc)\n",
    "plt.xlabel('Depth')\n",
    "plt.ylabel('AUC score')\n",
    "plt.title('Random Forest Depth vs. Area under curve')\n",
    "plt.show()"
   ]
  },
  {
   "cell_type": "markdown",
   "id": "dd232ef3",
   "metadata": {},
   "source": [
    "### Check ROC and Confusion Matrix"
   ]
  },
  {
   "cell_type": "code",
   "execution_count": 43,
   "id": "ee138341",
   "metadata": {},
   "outputs": [
    {
     "data": {
      "image/png": "[encoded data removed]",
      "text/plain": [
       "<Figure size 432x288 with 2 Axes>"
      ]
     },
     "metadata": {
      "needs_background": "light"
     },
     "output_type": "display_data"
    }
   ],
   "source": [
    "# train best parameter generated by k-fold\n",
    "model = RandomForestClassifier(n_estimators=100, random_state=17,max_depth=30)\n",
    "model.fit(X_train, y_train)\n",
    "\n",
    "y_pred = model.predict(X_test)\n",
    "\n",
    "# Compute confusion matrix\n",
    "cm = confusion_matrix(y_test, y_pred)\n",
    "\n",
    "# Plot confusion matrix\n",
    "sns.heatmap(cm, annot=True, cmap='Blues')\n",
    "plt.xlabel('Predicted labels')\n",
    "plt.ylabel('True labels')\n",
    "plt.show()"
   ]
  },
  {
   "cell_type": "code",
   "execution_count": 47,
   "id": "da8d5a31",
   "metadata": {},
   "outputs": [],
   "source": [
    "def plot_roc_curve(y_pred, y_test):\n",
    "    fpr, tpr, _ = roc_curve(y_pred, y_test)\n",
    "    roc_auc = roc_auc_score(y_pred, y_test)\n",
    "    plt.figure()\n",
    "    lw = 2\n",
    "    plt.plot(fpr, tpr, color='darkorange',\n",
    "             lw=lw, label='ROC curve (area = %0.2f)' % roc_auc)\n",
    "    plt.plot([0, 1], [0, 1], color='navy', lw=lw, linestyle='--')\n",
    "    plt.xlim([0.0, 1.0])\n",
    "    plt.ylim([0.0, 1.05])\n",
    "    plt.xlabel('False Positive Rate')\n",
    "    plt.ylabel('True Positive Rate')\n",
    "    plt.title('ROC')\n",
    "    plt.legend(loc=\"lower right\")\n",
    "    plt.show()"
   ]
  },
  {
   "cell_type": "code",
   "execution_count": 48,
   "id": "cfc2b113",
   "metadata": {},
   "outputs": [
    {
     "data": {
      "image/png": "[encoded data removed]",
      "text/plain": [
       "<Figure size 432x288 with 1 Axes>"
      ]
     },
     "metadata": {
      "needs_background": "light"
     },
     "output_type": "display_data"
    }
   ],
   "source": [
    "plot_roc_curve(y_pred, y_test)"
   ]
  },
  {
   "cell_type": "markdown",
   "id": "341c6a86",
   "metadata": {},
   "source": [
    "### XG bossting and K-fold "
   ]
  },
  {
   "cell_type": "code",
   "execution_count": 13,
   "id": "ef1ef8d6",
   "metadata": {},
   "outputs": [
    {
     "name": "stdout",
     "output_type": "stream",
     "text": [
      "Mean accuracy score:  0.8034202699611074 at depth:  1\n",
      "Mean auc score:  0.6060403034613562 at depth:  1\n",
      "Mean accuracy score:  0.793845801876001 at depth:  3\n",
      "Mean auc score:  0.6098288288288288 at depth:  3\n",
      "Mean accuracy score:  0.8002402196293754 at depth:  5\n",
      "Mean auc score:  0.6295301090564248 at depth:  5\n",
      "Mean accuracy score:  0.815168153740563 at depth:  10\n",
      "Mean auc score:  0.6251541014698909 at depth:  10\n",
      "Mean accuracy score:  0.8077213452299246 at depth:  20\n",
      "Mean auc score:  0.6165486012328119 at depth:  20\n",
      "Mean accuracy score:  0.8077213452299246 at depth:  30\n",
      "Mean auc score:  0.6165486012328119 at depth:  30\n",
      "Best auc occur at index:  2 depth is:  5 AUC is: 0.6295301090564248\n"
     ]
    }
   ],
   "source": [
    "# XGboosting\n",
    "depth = [1,3,5,10,20,30]\n",
    "n_splits = 10\n",
    "ACC = []\n",
    "AUC = []\n",
    "for i in range(len(depth)):\n",
    "    kf = StratifiedKFold(n_splits=10, shuffle=True, random_state=17)\n",
    "    xgb_clf = xgb.XGBClassifier(n_estimators=100, random_state=17, max_depth=depth[i])\n",
    "    Acc = []\n",
    "    Auc = []\n",
    "    for train_index, test_index in kf.split(X_train,y_train):\n",
    "        X_fold_train, X_fold_test = X_train.iloc[train_index], X_train.iloc[test_index], \n",
    "        y_fold_train, y_fold_test = y_train.iloc[train_index], y_train.iloc[test_index]\n",
    "        \n",
    "        xgb_clf.fit(X_fold_train, y_fold_train)\n",
    "        y_pred = xgb_clf.predict(X_fold_test)\n",
    "        auc = roc_auc_score(y_fold_test, y_pred)\n",
    "        acc = accuracy_score(y_fold_test, y_pred)\n",
    "        # append\n",
    "        Acc.append(acc)\n",
    "        Auc.append(auc)\n",
    "    ACC.append(sum(Acc) / n_splits)\n",
    "    AUC.append(sum(Auc) / n_splits)\n",
    "    print(\"Mean accuracy score: \", ACC[i],\"at depth: \",depth[i])\n",
    "    print(\"Mean auc score: \", AUC[i],\"at depth: \",depth[i])\n",
    "print(\"Best auc occur at index: \", np.argmax(AUC), \"depth is: \",depth[np.argmax(AUC)], \"AUC is:\", AUC[np.argmax(AUC)])\n"
   ]
  },
  {
   "cell_type": "code",
   "execution_count": 14,
   "id": "a9934fa2",
   "metadata": {},
   "outputs": [],
   "source": [
    "# XG boosting and just check AUC score\n",
    "import xgboost as xgb\n",
    "from sklearn.metrics import accuracy_score\n",
    "from sklearn.metrics import roc_auc_score\n",
    "from sklearn.metrics import confusion_matrix\n",
    "\n",
    "depth = [1,3,5,10,20,30]\n",
    "\n",
    "def testXGBoost(X_train, y_train, X_test, y_test):\n",
    "    SEN = []\n",
    "    SPC = []\n",
    "    ACC = []\n",
    "    AUC = []\n",
    "    for i in range(len(depth)):\n",
    "        model = xgb.XGBClassifier(n_estimators=100, random_state=17, max_depth=depth[i])\n",
    "        model.fit(X_train, y_train)\n",
    "        y_pred = model.predict(X_test)\n",
    "        tn, fp, fn, tp = confusion_matrix(y_test, y_pred).ravel()\n",
    "        sensitivity = tp / (tp + fn)\n",
    "        specificity = tn / (tn + fp)\n",
    "        acc = accuracy_score(y_test, y_pred)\n",
    "        auc = roc_auc_score(y_test, y_pred)\n",
    "        # append\n",
    "        ACC.append(acc)\n",
    "        AUC.append(auc)\n",
    "        SEN.append(sensitivity)\n",
    "        SPC.append(specificity)\n",
    "    return ACC, AUC, SEN, SPC\n",
    "\n",
    "acc,auc,sen,spc = testXGBoost(X_train, y_train, X_test, y_test)"
   ]
  },
  {
   "cell_type": "code",
   "execution_count": 15,
   "id": "20ba6ebf",
   "metadata": {},
   "outputs": [
    {
     "name": "stdout",
     "output_type": "stream",
     "text": [
      "[0.4782608695652174, 0.43478260869565216, 0.5217391304347826, 0.4782608695652174, 0.391304347826087, 0.391304347826087]\n",
      "[0.946236559139785, 0.967741935483871, 0.967741935483871, 0.978494623655914, 0.956989247311828, 0.956989247311828]\n"
     ]
    },
    {
     "data": {
      "image/png": "[encoded data removed]",
      "text/plain": [
       "<Figure size 432x288 with 1 Axes>"
      ]
     },
     "metadata": {
      "needs_background": "light"
     },
     "output_type": "display_data"
    }
   ],
   "source": [
    "# sensitivity vs. specificity\n",
    "print(sen)\n",
    "print(spc)\n",
    "plt.plot(sen,spc)\n",
    "plt.xlabel('sensitivity')\n",
    "plt.ylabel('specificity')\n",
    "plt.show()"
   ]
  },
  {
   "cell_type": "code",
   "execution_count": 16,
   "id": "f7349412",
   "metadata": {},
   "outputs": [
    {
     "name": "stdout",
     "output_type": "stream",
     "text": [
      "0.7447405329593269\n"
     ]
    },
    {
     "data": {
      "image/png": "[encoded data removed]",
      "text/plain": [
       "<Figure size 432x288 with 1 Axes>"
      ]
     },
     "metadata": {
      "needs_background": "light"
     },
     "output_type": "display_data"
    }
   ],
   "source": [
    "# check auc score\n",
    "print(max(auc))\n",
    "plt.plot(depth,auc)\n",
    "plt.xlabel('Depth')\n",
    "plt.ylabel('AUC score')\n",
    "plt.title('Random Forest Depth vs. Area under curve')\n",
    "plt.show()"
   ]
  },
  {
   "cell_type": "code",
   "execution_count": 17,
   "id": "6dda4042",
   "metadata": {},
   "outputs": [
    {
     "name": "stdout",
     "output_type": "stream",
     "text": [
      "0.8793103448275862\n"
     ]
    },
    {
     "data": {
      "image/png": "[encoded data removed]",
      "text/plain": [
       "<Figure size 432x288 with 1 Axes>"
      ]
     },
     "metadata": {
      "needs_background": "light"
     },
     "output_type": "display_data"
    }
   ],
   "source": [
    "# check test accuracy \n",
    "print(max(acc))\n",
    "plt.plot(depth,acc)\n",
    "plt.xlabel('Depth')\n",
    "plt.ylabel('Acc score')\n",
    "plt.title('XG boosting Depth vs. AUC')\n",
    "plt.show()"
   ]
  },
  {
   "cell_type": "markdown",
   "id": "fd482d9f",
   "metadata": {},
   "source": [
    "### ROC and confusion matrix for XG"
   ]
  },
  {
   "cell_type": "code",
   "execution_count": 49,
   "id": "4ae6aecf",
   "metadata": {},
   "outputs": [
    {
     "data": {
      "image/png": "[encoded data removed]",
      "text/plain": [
       "<Figure size 432x288 with 2 Axes>"
      ]
     },
     "metadata": {
      "needs_background": "light"
     },
     "output_type": "display_data"
    }
   ],
   "source": [
    "# train best parameter generated by k-fold\n",
    "model = xgb.XGBClassifier(n_estimators=100, random_state=17, max_depth=5)\n",
    "model.fit(X_train, y_train)\n",
    "\n",
    "y_pred = model.predict(X_test)\n",
    "\n",
    "# Compute confusion matrix\n",
    "cm = confusion_matrix(y_test, y_pred)\n",
    "\n",
    "# Plot confusion matrix\n",
    "sns.heatmap(cm, annot=True, cmap='Blues')\n",
    "plt.xlabel('Predicted labels')\n",
    "plt.ylabel('True labels')\n",
    "plt.show()"
   ]
  },
  {
   "cell_type": "code",
   "execution_count": 50,
   "id": "56002dc8",
   "metadata": {},
   "outputs": [
    {
     "data": {
      "image/png": "[encoded data removed]",
      "text/plain": [
       "<Figure size 432x288 with 1 Axes>"
      ]
     },
     "metadata": {
      "needs_background": "light"
     },
     "output_type": "display_data"
    }
   ],
   "source": [
    "plot_roc_curve(y_pred, y_test)"
   ]
  },
  {
   "cell_type": "markdown",
   "id": "eebff47a",
   "metadata": {},
   "source": [
    "### Adaboosting "
   ]
  },
  {
   "cell_type": "code",
   "execution_count": 18,
   "id": "061d10ba",
   "metadata": {},
   "outputs": [
    {
     "name": "stdout",
     "output_type": "stream",
     "text": [
      "Accuracy: 0.7327586206896551\n",
      "AUC: 0.6698232323232324\n",
      "Sensitivity: 0.782608695652174\n",
      "Specificity: 0.7204301075268817\n"
     ]
    }
   ],
   "source": [
    "# ada boosting\n",
    "def testAda(X_train, y_train, X_test, y_test):\n",
    "    AUC = []\n",
    "    SEN = []\n",
    "    SPC = []\n",
    "   \n",
    "    model = AdaBoostClassifier(n_estimators=100, random_state=17)\n",
    "    model.fit(X_train, y_train)\n",
    "    \n",
    "    y_scores = model.predict_proba(X_test)[:,1]\n",
    "    y_pred = (y_scores > 0.4944444).astype(int)\n",
    "    \n",
    "    tn, fp, fn, tp = confusion_matrix(y_test, y_pred).ravel()\n",
    "    sensitivity = tp / (tp + fn)\n",
    "    specificity = tn / (tn + fp)\n",
    "    \n",
    "    acc = accuracy_score(y_pred,y_test)\n",
    "    auc = roc_auc_score(y_pred,y_test)\n",
    "    return acc,auc,sensitivity,specificity\n",
    "acc,auc,sen,spc = testAda(X_train, y_train, X_test, y_test)\n",
    "print(\"Accuracy:\",acc)\n",
    "print(\"AUC:\", auc)\n",
    "print(\"Sensitivity:\", sen)\n",
    "print(\"Specificity:\", spc)"
   ]
  },
  {
   "cell_type": "markdown",
   "id": "a7df62b0",
   "metadata": {},
   "source": [
    "### ROC and confusion matrix for ADA boosting"
   ]
  },
  {
   "cell_type": "code",
   "execution_count": 52,
   "id": "9b3dd946",
   "metadata": {},
   "outputs": [
    {
     "data": {
      "image/png": "[encoded data removed]",
      "text/plain": [
       "<Figure size 432x288 with 2 Axes>"
      ]
     },
     "metadata": {
      "needs_background": "light"
     },
     "output_type": "display_data"
    }
   ],
   "source": [
    "# train best parameter generated by k-fold\n",
    "model = AdaBoostClassifier(n_estimators=100, random_state=17)\n",
    "model.fit(X_train, y_train)\n",
    "\n",
    "y_pred = model.predict(X_test)\n",
    "\n",
    "# Compute confusion matrix\n",
    "cm = confusion_matrix(y_test, y_pred)\n",
    "\n",
    "# Plot confusion matrix\n",
    "sns.heatmap(cm, annot=True, cmap='Blues')\n",
    "plt.xlabel('Predicted labels')\n",
    "plt.ylabel('True labels')\n",
    "plt.show()"
   ]
  },
  {
   "cell_type": "code",
   "execution_count": 53,
   "id": "b99845dd",
   "metadata": {},
   "outputs": [
    {
     "data": {
      "image/png": "[encoded data removed]",
      "text/plain": [
       "<Figure size 432x288 with 1 Axes>"
      ]
     },
     "metadata": {
      "needs_background": "light"
     },
     "output_type": "display_data"
    }
   ],
   "source": [
    "plot_roc_curve(y_pred, y_test)"
   ]
  },
  {
   "cell_type": "markdown",
   "id": "9cf616be",
   "metadata": {},
   "source": [
    "### Voting Classifier"
   ]
  },
  {
   "cell_type": "code",
   "execution_count": 23,
   "id": "e00332a0",
   "metadata": {},
   "outputs": [
    {
     "name": "stdout",
     "output_type": "stream",
     "text": [
      "AUC score:  0.9018232819074333\n",
      "Accuracy score:  0.8448275862068966\n",
      "Sensitivity:  0.782608695652174\n",
      "Specificity:  0.8602150537634409\n"
     ]
    }
   ],
   "source": [
    "# voting classifier\n",
    "# create the base models\n",
    "rf = RandomForestClassifier(max_depth=30, random_state=17)\n",
    "xgb_model = xgb.XGBClassifier(max_depth=5, n_estimators=100, random_state=17)\n",
    "ada = AdaBoostClassifier(n_estimators=100, random_state=17)\n",
    "\n",
    "# create the voting classifier\n",
    "voting = VotingClassifier(estimators=[('rf', rf), ('xgb', xgb_model), ('ada', ada)], voting='soft')\n",
    "\n",
    "# fit the voting classifier to the training data\n",
    "voting.fit(X_train, y_train)\n",
    "\n",
    "# make predictions on the test data\n",
    "y_pred_proba = voting.predict_proba(X_test)[:, 1]\n",
    "\n",
    "# compute the evaluation metrics\n",
    "auc = roc_auc_score(y_test, y_pred_proba)\n",
    "y_pred = [1 if prob >= 0.3 else 0 for prob in y_pred_proba]\n",
    "acc = accuracy_score(y_test, y_pred)\n",
    "tn, fp, fn, tp = confusion_matrix(y_test, y_pred).ravel()\n",
    "sensitivity = tp / (tp + fn)\n",
    "specificity = tn / (tn + fp)\n",
    "\n",
    "# print the evaluation metrics\n",
    "print(\"AUC score: \", auc)\n",
    "print(\"Accuracy score: \", acc)\n",
    "print(\"Sensitivity: \", sensitivity)\n",
    "print(\"Specificity: \", specificity)\n",
    "\n"
   ]
  },
  {
   "cell_type": "code",
   "execution_count": null,
   "id": "a9c2933a",
   "metadata": {},
   "outputs": [],
   "source": []
  },
  {
   "cell_type": "code",
   "execution_count": 54,
   "id": "84b0ef6b",
   "metadata": {},
   "outputs": [
    {
     "data": {
      "image/png": "[encoded data removed]",
      "text/plain": [
       "<Figure size 432x288 with 2 Axes>"
      ]
     },
     "metadata": {
      "needs_background": "light"
     },
     "output_type": "display_data"
    }
   ],
   "source": [
    "# train best parameter generated by k-fold\n",
    "rf = RandomForestClassifier(max_depth=30, random_state=17)\n",
    "xgb_model = xgb.XGBClassifier(max_depth=5, n_estimators=100, random_state=17)\n",
    "ada = AdaBoostClassifier(n_estimators=100, random_state=17)\n",
    "\n",
    "voting = VotingClassifier(estimators=[('rf', rf), ('xgb', xgb_model), ('ada', ada)], voting='soft')\n",
    "voting.fit(X_train, y_train)\n",
    "y_pred_proba = voting.predict_proba(X_test)[:, 1]\n",
    "y_pred = [1 if prob >= 0.3 else 0 for prob in y_pred_proba]\n",
    "\n",
    "# Compute confusion matrix\n",
    "cm = confusion_matrix(y_test, y_pred)\n",
    "\n",
    "# Plot confusion matrix\n",
    "sns.heatmap(cm, annot=True, cmap='Blues')\n",
    "plt.xlabel('Predicted labels')\n",
    "plt.ylabel('True labels')\n",
    "plt.show()"
   ]
  },
  {
   "cell_type": "code",
   "execution_count": 56,
   "id": "23f99167",
   "metadata": {},
   "outputs": [
    {
     "data": {
      "image/png": "[encoded data removed]",
      "text/plain": [
       "<Figure size 432x288 with 1 Axes>"
      ]
     },
     "metadata": {
      "needs_background": "light"
     },
     "output_type": "display_data"
    }
   ],
   "source": [
    "def plot_roc_curve(y_test, y_pred_proba):\n",
    "    fpr, tpr, _ = roc_curve(y_test, y_pred_proba)\n",
    "    roc_auc = roc_auc_score(y_test, y_pred_proba)\n",
    "    plt.figure()\n",
    "    lw = 2\n",
    "    plt.plot(fpr, tpr, color='darkorange',\n",
    "             lw=lw, label='ROC curve (area = %0.2f)' % roc_auc)\n",
    "    plt.plot([0, 1], [0, 1], color='navy', lw=lw, linestyle='--')\n",
    "    plt.xlim([0.0, 1.0])\n",
    "    plt.ylim([0.0, 1.05])\n",
    "    plt.xlabel('False Positive Rate')\n",
    "    plt.ylabel('True Positive Rate')\n",
    "    plt.title('ROC')\n",
    "    plt.legend(loc=\"lower right\")\n",
    "    plt.show()\n",
    "plot_roc_curve(y_test, y_pred_proba)"
   ]
  },
  {
   "cell_type": "markdown",
   "id": "3f33eb66",
   "metadata": {},
   "source": [
    "### Choose best threshold for voting"
   ]
  },
  {
   "cell_type": "code",
   "execution_count": 27,
   "id": "ce779bdf",
   "metadata": {},
   "outputs": [
    {
     "name": "stdout",
     "output_type": "stream",
     "text": [
      "AUC score:  0.9060308555399719\n",
      "Accuracy score:  0.8620689655172413\n",
      "Sensitivity:  0.782608695652174\n",
      "Specificity:  0.8817204301075269\n",
      "Optimized threshold:  0.3\n"
     ]
    }
   ],
   "source": [
    "# voting\n",
    "# create the base models\n",
    "rf = RandomForestClassifier(max_depth=10, random_state=17)\n",
    "xgb_model = xgb.XGBClassifier(max_depth=10, n_estimators=100, random_state=17)\n",
    "ada = AdaBoostClassifier(n_estimators=100, random_state=17)\n",
    "\n",
    "# create the voting classifier\n",
    "voting = VotingClassifier(estimators=[('rf', rf), ('xgb', xgb_model), ('ada', ada)], voting='soft')\n",
    "\n",
    "# fit the voting classifier to the training data\n",
    "voting.fit(X_train, y_train)\n",
    "\n",
    "# make predictions on the test data\n",
    "y_pred_proba = voting.predict_proba(X_test)[:, 1]\n",
    "\n",
    "# optimize the threshold for y_pred using a custom score function\n",
    "best_threshold = None\n",
    "best_score = None\n",
    "for threshold in np.arange(0, 1.01, 0.01):\n",
    "    y_pred = [1 if prob >= threshold else 0 for prob in y_pred_proba]\n",
    "    tn, fp, fn, tp = confusion_matrix(y_test, y_pred).ravel()\n",
    "    sensitivity = tp / (tp + fn)\n",
    "    specificity = tn / (tn + fp)\n",
    "    score = 1*sensitivity + specificity\n",
    "    if best_score is None or score > best_score:\n",
    "        best_score = score\n",
    "        best_threshold = threshold\n",
    "\n",
    "# compute the evaluation metrics using the optimized threshold\n",
    "y_pred = [1 if prob >= best_threshold else 0 for prob in y_pred_proba]\n",
    "auc = roc_auc_score(y_test, y_pred_proba)\n",
    "acc = accuracy_score(y_test, y_pred)\n",
    "tn, fp, fn, tp = confusion_matrix(y_test, y_pred).ravel()\n",
    "sensitivity = tp / (tp + fn)\n",
    "specificity = tn / (tn + fp)\n",
    "\n",
    "# print the evaluation metrics\n",
    "print(\"AUC score: \", auc)\n",
    "print(\"Accuracy score: \", acc)\n",
    "print(\"Sensitivity: \", sensitivity)\n",
    "print(\"Specificity: \", specificity)\n",
    "print(\"Optimized threshold: \", best_threshold)\n"
   ]
  },
  {
   "cell_type": "code",
   "execution_count": 28,
   "id": "9a863240",
   "metadata": {},
   "outputs": [
    {
     "data": {
      "text/plain": [
       "0.3"
      ]
     },
     "execution_count": 28,
     "metadata": {},
     "output_type": "execute_result"
    }
   ],
   "source": [
    "best_threshold"
   ]
  },
  {
   "cell_type": "markdown",
   "id": "82067a11",
   "metadata": {},
   "source": [
    "### Test test set on Voting Algorithm"
   ]
  },
  {
   "cell_type": "code",
   "execution_count": 29,
   "id": "fe24af87",
   "metadata": {},
   "outputs": [
    {
     "name": "stdout",
     "output_type": "stream",
     "text": [
      "AUC score:  0.8570212765957446\n",
      "Accuracy score:  0.8235294117647058\n",
      "Sensitivity:  0.72\n",
      "Specificity:  0.851063829787234\n"
     ]
    }
   ],
   "source": [
    "from sklearn.ensemble import RandomForestClassifier, AdaBoostClassifier, VotingClassifier\n",
    "import xgboost as xgb\n",
    "from sklearn.metrics import accuracy_score, roc_auc_score, confusion_matrix\n",
    "\n",
    "# create the base models\n",
    "rf = RandomForestClassifier(max_depth=30, random_state=17)\n",
    "xgb_model = xgb.XGBClassifier(max_depth=5, n_estimators=100, random_state=17)\n",
    "ada = AdaBoostClassifier(n_estimators=100, random_state=17)\n",
    "\n",
    "# create the voting classifier\n",
    "voting = VotingClassifier(estimators=[('rf', rf), ('xgb', xgb_model), ('ada', ada)], voting='soft')\n",
    "\n",
    "# fit the voting classifier to the training data\n",
    "voting.fit(X_train, y_train)\n",
    "\n",
    "# make predictions on the test data\n",
    "y_pred_proba = voting.predict_proba(X_dev)[:, 1]\n",
    "\n",
    "# compute the evaluation metrics\n",
    "auc = roc_auc_score(y_dev, y_pred_proba)\n",
    "y_pred = [1 if prob >= 0.3 else 0 for prob in y_pred_proba]\n",
    "acc = accuracy_score(y_dev, y_pred)\n",
    "tn, fp, fn, tp = confusion_matrix(y_dev, y_pred).ravel()\n",
    "sensitivity = tp / (tp + fn)\n",
    "specificity = tn / (tn + fp)\n",
    "\n",
    "# print the evaluation metrics\n",
    "print(\"AUC score: \", auc)\n",
    "print(\"Accuracy score: \", acc)\n",
    "print(\"Sensitivity: \", sensitivity)\n",
    "print(\"Specificity: \", specificity)\n",
    "\n"
   ]
  },
  {
   "cell_type": "markdown",
   "id": "cdd62cb0",
   "metadata": {},
   "source": [
    "### Check ROC and Confusion Matrix for Voting on Dev set"
   ]
  },
  {
   "cell_type": "code",
   "execution_count": 58,
   "id": "82798220",
   "metadata": {},
   "outputs": [
    {
     "data": {
      "image/png": "[encoded data removed]",
      "text/plain": [
       "<Figure size 432x288 with 2 Axes>"
      ]
     },
     "metadata": {
      "needs_background": "light"
     },
     "output_type": "display_data"
    }
   ],
   "source": [
    "# train best parameter generated by k-fold\n",
    "rf = RandomForestClassifier(max_depth=30, random_state=17)\n",
    "xgb_model = xgb.XGBClassifier(max_depth=5, n_estimators=100, random_state=17)\n",
    "ada = AdaBoostClassifier(n_estimators=100, random_state=17)\n",
    "\n",
    "voting = VotingClassifier(estimators=[('rf', rf), ('xgb', xgb_model), ('ada', ada)], voting='soft')\n",
    "voting.fit(X_train, y_train)\n",
    "y_pred_proba = voting.predict_proba(X_dev)[:, 1]\n",
    "y_pred = [1 if prob >= 0.3 else 0 for prob in y_pred_proba]\n",
    "\n",
    "# Compute confusion matrix\n",
    "cm = confusion_matrix(y_dev, y_pred)\n",
    "\n",
    "# Plot confusion matrix\n",
    "sns.heatmap(cm, annot=True, cmap='Blues')\n",
    "plt.xlabel('Predicted labels')\n",
    "plt.ylabel('True labels')\n",
    "plt.show()"
   ]
  },
  {
   "cell_type": "code",
   "execution_count": 59,
   "id": "577bc48c",
   "metadata": {},
   "outputs": [
    {
     "data": {
      "image/png": "[encoded data removed]",
      "text/plain": [
       "<Figure size 432x288 with 1 Axes>"
      ]
     },
     "metadata": {
      "needs_background": "light"
     },
     "output_type": "display_data"
    }
   ],
   "source": [
    "plot_roc_curve(y_dev, y_pred_proba)"
   ]
  },
  {
   "cell_type": "markdown",
   "id": "83b10dac",
   "metadata": {},
   "source": [
    "### other stuff"
   ]
  },
  {
   "cell_type": "code",
   "execution_count": 31,
   "id": "923cb913",
   "metadata": {},
   "outputs": [
    {
     "name": "stdout",
     "output_type": "stream",
     "text": [
      "0.000000 0.000000 1.720093\n",
      "0.000000 0.040000 0.720093\n",
      "0.000000 0.320000 0.614127\n",
      "0.021277 0.320000 0.593239\n",
      "0.021277 0.440000 0.480221\n",
      "0.063830 0.440000 0.436212\n",
      "0.063830 0.480000 0.433418\n",
      "0.074468 0.480000 0.424516\n",
      "0.074468 0.520000 0.397988\n",
      "0.095745 0.520000 0.392565\n",
      "0.095745 0.560000 0.360670\n",
      "0.117021 0.560000 0.334235\n",
      "0.117021 0.640000 0.325141\n",
      "0.127660 0.640000 0.321679\n",
      "0.127660 0.680000 0.313535\n",
      "0.138298 0.680000 0.308192\n",
      "0.138298 0.720000 0.307882\n",
      "0.159574 0.720000 0.299321\n",
      "0.159574 0.760000 0.298803\n",
      "0.180851 0.760000 0.295328\n",
      "0.180851 0.800000 0.293160\n",
      "0.202128 0.800000 0.275999\n",
      "0.202128 0.840000 0.274268\n",
      "0.276596 0.840000 0.248361\n",
      "0.276596 0.880000 0.248142\n",
      "0.553191 0.880000 0.200846\n",
      "0.553191 0.920000 0.197809\n",
      "0.670213 0.920000 0.187608\n",
      "0.670213 0.960000 0.186319\n",
      "0.734043 0.960000 0.180435\n",
      "0.734043 1.000000 0.180127\n",
      "1.000000 1.000000 0.115324\n"
     ]
    },
    {
     "data": {
      "image/png": "[encoded data removed]",
      "text/plain": [
       "<Figure size 432x288 with 1 Axes>"
      ]
     },
     "metadata": {
      "needs_background": "light"
     },
     "output_type": "display_data"
    }
   ],
   "source": [
    "from sklearn.metrics import roc_curve,auc\n",
    "import matplotlib.pyplot as plt\n",
    "\n",
    "model = voting\n",
    "prob_test = model.predict_proba(X_dev)\n",
    "predict_test_value = prob_test[:, 1]\n",
    "fpr,tpr,thersholds=roc_curve(y_dev,predict_test_value)\n",
    "#fpr,tpr,thersholds=roc_curve(Y_test,model.predict(X_test))\n",
    "\n",
    "for i,value in enumerate(thersholds):\n",
    "    print(\"%f %f %f\" % (fpr[i],tpr[i],value))\n",
    "roc_auc=auc(fpr,tpr)\n",
    "plt.plot(fpr,tpr,'b--',label='ROC(area={0:.2f})'.format(roc_auc),lw=2)\n",
    "plt.xlim([-0.05,1.05])\n",
    "plt.ylim([-0.05,1.05])\n",
    "plt.xlabel('False Positive Rate')\n",
    "plt.ylabel('True Positive Rate')\n",
    "plt.plot([0, 1], [0, 1], \"r--\")\n",
    "plt.title('ROC Curve')\n",
    "plt.legend(loc=\"lower right\")\n",
    "plt.show()"
   ]
  },
  {
   "cell_type": "code",
   "execution_count": null,
   "id": "d28d3407",
   "metadata": {},
   "outputs": [],
   "source": []
  },
  {
   "cell_type": "code",
   "execution_count": null,
   "id": "9c4af327",
   "metadata": {},
   "outputs": [],
   "source": []
  },
  {
   "cell_type": "code",
   "execution_count": null,
   "id": "18c96c6a",
   "metadata": {},
   "outputs": [],
   "source": []
  }
 ],
 "metadata": {
  "kernelspec": {
   "display_name": "Python 3 (ipykernel)",
   "language": "python",
   "name": "python3"
  },
  "language_info": {
   "codemirror_mode": {
    "name": "ipython",
    "version": 3
   },
   "file_extension": ".py",
   "mimetype": "text/x-python",
   "name": "python",
   "nbconvert_exporter": "python",
   "pygments_lexer": "ipython3",
   "version": "3.9.12"
  }
 },
 "nbformat": 4,
 "nbformat_minor": 5
}
